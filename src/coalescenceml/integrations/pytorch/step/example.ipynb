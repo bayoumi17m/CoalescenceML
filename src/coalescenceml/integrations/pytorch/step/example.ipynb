{
 "cells": [
  {
   "cell_type": "code",
   "execution_count": 1,
   "id": "2ec921c3",
   "metadata": {},
   "outputs": [],
   "source": [
    "from pytorch_trainstep import PTClassifierTrainStep, PTClassifierConfig\n",
    "import numpy as np\n",
    "import pandas as pd"
   ]
  },
  {
   "cell_type": "code",
   "execution_count": 2,
   "id": "b0028b04",
   "metadata": {},
   "outputs": [],
   "source": [
    "from sklearn.datasets import load_breast_cancer\n",
    "data = load_breast_cancer()\n",
    "x = data['data']\n",
    "y = data['target']\n",
    "\n",
    "from sklearn.preprocessing import StandardScaler\n",
    "sc = StandardScaler()\n",
    "x = sc.fit_transform(x)"
   ]
  },
  {
   "cell_type": "code",
   "execution_count": 4,
   "id": "27567429",
   "metadata": {},
   "outputs": [],
   "source": [
    "config = PTClassifierConfig(layers=[32,64], num_classes=2, batch_size=17)\n",
    "classifierStep = PyTorchClassifierTrainStep()\n",
    "model = classifierStep.entrypoint(config, x[0:200, :], y[0:200])\n"
   ]
  },
  {
   "cell_type": "code",
   "execution_count": 1,
   "id": "76557706",
   "metadata": {},
   "outputs": [
    {
     "ename": "NameError",
     "evalue": "name 'model' is not defined",
     "output_type": "error",
     "traceback": [
      "\u001b[0;31m---------------------------------------------------------------------------\u001b[0m",
      "\u001b[0;31mNameError\u001b[0m                                 Traceback (most recent call last)",
      "\u001b[1;32m/Users/emily/Desktop/MLOps work/CoalescenceML/src/coalescenceml/integrations/pytorch/step/example.ipynb Cell 4'\u001b[0m in \u001b[0;36m<cell line: 3>\u001b[0;34m()\u001b[0m\n\u001b[1;32m      <a href='vscode-notebook-cell:/Users/emily/Desktop/MLOps%20work/CoalescenceML/src/coalescenceml/integrations/pytorch/step/example.ipynb#ch0000003?line=0'>1</a>\u001b[0m \u001b[39mimport\u001b[39;00m \u001b[39mtorch\u001b[39;00m\n\u001b[0;32m----> <a href='vscode-notebook-cell:/Users/emily/Desktop/MLOps%20work/CoalescenceML/src/coalescenceml/integrations/pytorch/step/example.ipynb#ch0000003?line=2'>3</a>\u001b[0m model\u001b[39m.\u001b[39meval()\n\u001b[1;32m      <a href='vscode-notebook-cell:/Users/emily/Desktop/MLOps%20work/CoalescenceML/src/coalescenceml/integrations/pytorch/step/example.ipynb#ch0000003?line=4'>5</a>\u001b[0m \u001b[39mwith\u001b[39;00m torch\u001b[39m.\u001b[39mno_grad():\n\u001b[1;32m      <a href='vscode-notebook-cell:/Users/emily/Desktop/MLOps%20work/CoalescenceML/src/coalescenceml/integrations/pytorch/step/example.ipynb#ch0000003?line=5'>6</a>\u001b[0m   x_test \u001b[39m=\u001b[39m x[\u001b[39m200\u001b[39m:,:]\n",
      "\u001b[0;31mNameError\u001b[0m: name 'model' is not defined"
     ]
    }
   ],
   "source": [
    "import torch\n",
    "\n",
    "model.eval()\n",
    "\n",
    "with torch.no_grad():\n",
    "  x_test = x[200:,:]\n",
    "  y_test = y[200:]\n",
    "\n",
    "  acc = 0\n",
    "  for i in range(len(x_test)):\n",
    "    y_pred = model(torch.Tensor(x_test[i]).unsqueeze(0))\n",
    "    y_pred = round(y_pred.item())\n",
    "    if (y_pred == y_test[i]):\n",
    "      acc +=1\n",
    "\n",
    "  print(\"model accuracy: \", acc / len(x_test))\n",
    "    "
   ]
  },
  {
   "cell_type": "code",
   "execution_count": 2,
   "id": "0ee9eb46",
   "metadata": {},
   "outputs": [
    {
     "data": {
      "text/plain": [
       "'1.11.0'"
      ]
     },
     "execution_count": 2,
     "metadata": {},
     "output_type": "execute_result"
    }
   ],
   "source": [
    "torch.__version__"
   ]
  }
 ],
 "metadata": {
  "kernelspec": {
   "display_name": "Python 3 (ipykernel)",
   "language": "python",
   "name": "python3"
  },
  "language_info": {
   "codemirror_mode": {
    "name": "ipython",
    "version": 3
   },
   "file_extension": ".py",
   "mimetype": "text/x-python",
   "name": "python",
   "nbconvert_exporter": "python",
   "pygments_lexer": "ipython3",
   "version": "3.8.12"
  }
 },
 "nbformat": 4,
 "nbformat_minor": 5
}
