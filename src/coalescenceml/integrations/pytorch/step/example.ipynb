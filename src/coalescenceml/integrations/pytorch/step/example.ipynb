{
 "cells": [
  {
   "cell_type": "code",
   "execution_count": 1,
   "id": "2ec921c3",
   "metadata": {},
   "outputs": [],
   "source": [
    "from pytorch_trainstep import PyTorchClassifierTrainStep, PTClassifierConfig\n",
    "import numpy as np\n",
    "import pandas as pd"
   ]
  },
  {
   "cell_type": "code",
   "execution_count": 2,
   "id": "b0028b04",
   "metadata": {},
   "outputs": [],
   "source": [
    "from sklearn.datasets import load_breast_cancer\n",
    "data = load_breast_cancer()\n",
    "x = data['data']\n",
    "y = data['target']\n",
    "\n",
    "from sklearn.preprocessing import StandardScaler\n",
    "sc = StandardScaler()\n",
    "x = sc.fit_transform(x)"
   ]
  },
  {
   "cell_type": "code",
   "execution_count": 4,
   "id": "27567429",
   "metadata": {},
   "outputs": [],
   "source": [
    "config = PTClassifierConfig(layers=[32,64], num_classes=2, batch_size=17)\n",
    "classifierStep = PyTorchClassifierTrainStep()\n",
    "model = classifierStep.entrypoint(config, x[0:200, :], y[0:200])\n"
   ]
  },
  {
   "cell_type": "code",
   "execution_count": 5,
   "id": "76557706",
   "metadata": {},
   "outputs": [
    {
     "name": "stdout",
     "output_type": "stream",
     "text": [
      "model accuracy:  0.959349593495935\n"
     ]
    }
   ],
   "source": [
    "import torch\n",
    "\n",
    "model.eval()\n",
    "\n",
    "with torch.no_grad():\n",
    "  x_test = x[200:,:]\n",
    "  y_test = y[200:]\n",
    "\n",
    "  acc = 0\n",
    "  for i in range(len(x_test)):\n",
    "    y_pred = model(torch.Tensor(x_test[i]).unsqueeze(0))\n",
    "    y_pred = round(y_pred.item())\n",
    "    if (y_pred == y_test[i]):\n",
    "      acc +=1\n",
    "\n",
    "  print(\"model accuracy: \", acc / len(x_test))\n",
    "    "
   ]
  }
 ],
 "metadata": {
  "kernelspec": {
   "display_name": "Python 3 (ipykernel)",
   "language": "python",
   "name": "python3"
  },
  "language_info": {
   "codemirror_mode": {
    "name": "ipython",
    "version": 3
   },
   "file_extension": ".py",
   "mimetype": "text/x-python",
   "name": "python",
   "nbconvert_exporter": "python",
   "pygments_lexer": "ipython3",
   "version": "3.8.12"
  }
 },
 "nbformat": 4,
 "nbformat_minor": 5
}
